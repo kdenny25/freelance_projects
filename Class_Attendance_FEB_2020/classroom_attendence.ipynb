{
 "cells": [
  {
   "cell_type": "markdown",
   "metadata": {},
   "source": [
    "## Classroom Attendance \n",
    "\n",
    "This is a freelance project obtained via word of mouth. Prior to taking this project I had quoted 5 hours, instead it took approximately 12 hours to complete.The data was a bit messier than I had previous anticipated and I was doing all the cleaning from within excel. \n",
    "\n",
    "I finished this project in MS Excel, because my knowledge was quite limited in regards to cleaning with Python or R. So I'm going through this project again to gain real world experience using Python.\n",
    "\n",
    "#### Questions to Answer:\n",
    "\n",
    "* Number of total students assigned\n",
    "* Number of students actually attended\n",
    "* Repeat offenders\n",
    "* Average number of days assigned\n",
    "* Average numger of days actually attened\n",
    "\n",
    "Judging from the language you can deduce that this is likely a disciplinary class for troubled students.\n",
    "\n",
    "#### Followup Questions:\n",
    "\n",
    "After looking at the data I provided some followup questions to get a better grasp of the data. I was provided three excel files each containing many sheets, all labeled with a day of the month. \n",
    "\n",
    "* The number of students is different each day, does this represent students assigned to that day?\n",
    "* If so, then what do values in the attendance column represent?\n",
    "* Does the date column represent dates assigned?\n",
    "* What axactly are you refering to when you say repreat offenders?\n",
    "\n",
    "##### Answers:\n",
    "\n",
    "* Yes, the students are assigned to us for 1-10 days. Each day some attened and some don't.\n",
    "* Yes, those are the dates they were assigned.\n",
    "* The letter A or P means absent or present.\n",
    "* If John Doe came in Jan, did he come back? If so how many times?\n",
    "\n",
    "#### Looking at the Data:"
   ]
  }
 ],
 "metadata": {
  "kernelspec": {
   "display_name": "Python 3",
   "language": "python",
   "name": "python3"
  },
  "language_info": {
   "codemirror_mode": {
    "name": "ipython",
    "version": 3
   },
   "file_extension": ".py",
   "mimetype": "text/x-python",
   "name": "python",
   "nbconvert_exporter": "python",
   "pygments_lexer": "ipython3",
   "version": "3.7.4"
  }
 },
 "nbformat": 4,
 "nbformat_minor": 4
}
